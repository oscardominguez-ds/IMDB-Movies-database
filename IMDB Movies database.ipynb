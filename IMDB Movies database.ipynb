{
 "cells": [
  {
   "cell_type": "markdown",
   "id": "fda96a1e",
   "metadata": {},
   "source": [
    "# Oscar Dominguez"
   ]
  },
  {
   "cell_type": "code",
   "execution_count": 1,
   "id": "d6a927e7",
   "metadata": {},
   "outputs": [],
   "source": [
    "# imports\n",
    "import pandas as pd\n",
    "\n",
    "# Numpy\n",
    "import numpy as np"
   ]
  },
  {
   "cell_type": "markdown",
   "id": "68bd4731",
   "metadata": {},
   "source": [
    "# Akas table:\n",
    "- keep only US movies.\n",
    "- Replace \"\\N\" with np.nan"
   ]
  },
  {
   "cell_type": "code",
   "execution_count": null,
   "id": "31a37956",
   "metadata": {},
   "outputs": [],
   "source": [
    "#Loading Akas data\n",
    "akas_url=\"https://datasets.imdbws.com/title.akas.tsv.gz\"\n",
    "akas = pd.read_csv(akas_url, sep='\\t', low_memory=False)\n",
    "akas.info()"
   ]
  },
  {
   "cell_type": "code",
   "execution_count": null,
   "id": "d814dec0",
   "metadata": {},
   "outputs": [],
   "source": [
    "akas.head()"
   ]
  },
  {
   "cell_type": "markdown",
   "id": "07c15704",
   "metadata": {},
   "source": [
    "## keep only US movies."
   ]
  },
  {
   "cell_type": "code",
   "execution_count": null,
   "id": "ba99b3f1",
   "metadata": {},
   "outputs": [],
   "source": [
    "#Creating new dataset with the rows that have US in region\n",
    "akas_us = akas[akas['region']== 'US']\n",
    "akas_us"
   ]
  },
  {
   "cell_type": "markdown",
   "id": "acd62ecc",
   "metadata": {},
   "source": [
    "## Replace \"\\N\" with np.nan"
   ]
  },
  {
   "cell_type": "code",
   "execution_count": null,
   "id": "79e35d22",
   "metadata": {},
   "outputs": [],
   "source": [
    "#I will use this code below to check that \\N was replaced by NaN\n",
    "akas_us.isnull().sum(axis = 0)"
   ]
  },
  {
   "cell_type": "code",
   "execution_count": null,
   "id": "7d52723d",
   "metadata": {},
   "outputs": [],
   "source": [
    "#Replacing \\N with NaN and displaying dataframe to look for NaN values\n",
    "akas_us.replace({'\\\\N':np.nan}, inplace=True)\n",
    "akas_us"
   ]
  },
  {
   "cell_type": "code",
   "execution_count": null,
   "id": "b6ab1c82",
   "metadata": {},
   "outputs": [],
   "source": [
    "#Counting NaN value to ensure they replaced \\N\n",
    "akas_us.isnull().sum(axis = 0)"
   ]
  },
  {
   "cell_type": "markdown",
   "id": "b5fe351d",
   "metadata": {},
   "source": [
    "# Basics table:\n",
    "- Replace \"\\N\" with np.nan\n",
    "- Eliminate movies that are null for runtimeMinutes\n",
    "- Eliminate movies that are null for genre\n",
    "- keep only titleType==Movie\n",
    "- keep startYear 2000-2022\n",
    "- Eliminate movies that include \"Documentary\" in genre (see tip below)\n",
    "- Keep only US movies (Use AKAs table, see \"Filtering one dataframe based on another\" section below)"
   ]
  },
  {
   "cell_type": "code",
   "execution_count": null,
   "id": "72ddc7b3",
   "metadata": {},
   "outputs": [],
   "source": [
    "#Loading basics data\n",
    "basics_url=\"https://datasets.imdbws.com/title.basics.tsv.gz\"\n",
    "basics = pd.read_csv(basics_url, sep='\\t', low_memory=False)\n",
    "basics.info()"
   ]
  },
  {
   "cell_type": "code",
   "execution_count": null,
   "id": "a7c755dd",
   "metadata": {},
   "outputs": [],
   "source": [
    "basics.head()"
   ]
  },
  {
   "cell_type": "markdown",
   "id": "95d6fe5c",
   "metadata": {},
   "source": [
    "## Replace \"\\N\" with np.nan"
   ]
  },
  {
   "cell_type": "code",
   "execution_count": null,
   "id": "d4d087e6",
   "metadata": {},
   "outputs": [],
   "source": [
    "#Replacing all \\N values with NaN\n",
    "basics.replace({'\\\\N':np.nan}, inplace=True)\n",
    "basics"
   ]
  },
  {
   "cell_type": "markdown",
   "id": "c05bdc80",
   "metadata": {},
   "source": [
    "## Eliminate movies that are null for runtimeMinutes"
   ]
  },
  {
   "cell_type": "code",
   "execution_count": null,
   "id": "6e523aee",
   "metadata": {},
   "outputs": [],
   "source": [
    "#Checking null count\n",
    "basics['runtimeMinutes'].isna().sum()"
   ]
  },
  {
   "cell_type": "code",
   "execution_count": null,
   "id": "4b3c97b1",
   "metadata": {},
   "outputs": [],
   "source": [
    "#Resource for dropping null values - \n",
    "#https://stackoverflow.com/questions/49291740/delete-rows-if-there-are-null-values-in-a-specific-column-in-pandas-dataframe\n",
    "basics = basics.dropna(axis=0, subset=['runtimeMinutes'])"
   ]
  },
  {
   "cell_type": "code",
   "execution_count": null,
   "id": "2d9f61fa",
   "metadata": {},
   "outputs": [],
   "source": [
    "#Checking null count to ensure values were removed\n",
    "basics['runtimeMinutes'].isna().sum()"
   ]
  },
  {
   "cell_type": "markdown",
   "id": "605dede0",
   "metadata": {},
   "source": [
    "## Eliminate movies that are null for genre"
   ]
  },
  {
   "cell_type": "code",
   "execution_count": null,
   "id": "23bb6a3a",
   "metadata": {},
   "outputs": [],
   "source": [
    "#Same as above, getting null count then removing nulls and getting another count\n",
    "#to ensure change.\n",
    "basics['genres'].isna().sum()"
   ]
  },
  {
   "cell_type": "code",
   "execution_count": null,
   "id": "6fb5b0e8",
   "metadata": {},
   "outputs": [],
   "source": [
    "basics = basics.dropna(axis=0, subset=['genres'])"
   ]
  },
  {
   "cell_type": "code",
   "execution_count": null,
   "id": "0339e518",
   "metadata": {},
   "outputs": [],
   "source": [
    "basics['genres'].isna().sum()"
   ]
  },
  {
   "cell_type": "markdown",
   "id": "f9c5a9c3",
   "metadata": {},
   "source": [
    "## Keep only titleType==Movie"
   ]
  },
  {
   "cell_type": "code",
   "execution_count": null,
   "id": "91aa819f",
   "metadata": {},
   "outputs": [],
   "source": [
    "#Viewing value_counts() to ensure we only keep titleType movie\n",
    "basics['titleType'].value_counts()"
   ]
  },
  {
   "cell_type": "code",
   "execution_count": null,
   "id": "bc7c7412",
   "metadata": {},
   "outputs": [],
   "source": [
    "#Saving titleType movie to dataframe\n",
    "basics = basics[basics['titleType']== 'movie']\n",
    "basics"
   ]
  },
  {
   "cell_type": "code",
   "execution_count": null,
   "id": "7b519ebf",
   "metadata": {},
   "outputs": [],
   "source": [
    "#Getting value counts to ensure movie is the only value in titleType column\n",
    "basics['titleType'].value_counts()"
   ]
  },
  {
   "cell_type": "markdown",
   "id": "c4a91687",
   "metadata": {},
   "source": [
    "## Keep startYear 2000-2022 (change to float)"
   ]
  },
  {
   "cell_type": "code",
   "execution_count": null,
   "id": "df641f1d",
   "metadata": {},
   "outputs": [],
   "source": [
    "basics['startYear'] = basics['startYear'].astype(float)"
   ]
  },
  {
   "cell_type": "code",
   "execution_count": null,
   "id": "10130be4",
   "metadata": {},
   "outputs": [],
   "source": [
    "#Checking data type for conversion to float\n",
    "basics['startYear'].dtype"
   ]
  },
  {
   "cell_type": "code",
   "execution_count": null,
   "id": "26bad8d9",
   "metadata": {},
   "outputs": [],
   "source": [
    "#Resource- https://stackoverflow.com/questions/29370057/select-dataframe-rows-between-two-dates\n",
    "basics = basics[(basics['startYear'] >= 2020) & (basics['startYear'] <= 2023)]\n",
    "basics"
   ]
  },
  {
   "cell_type": "markdown",
   "id": "adc1004c",
   "metadata": {},
   "source": [
    "## Eliminate movies that include \"Documentary\" in genre (see tip below)"
   ]
  },
  {
   "cell_type": "code",
   "execution_count": null,
   "id": "48176fce",
   "metadata": {},
   "outputs": [],
   "source": [
    "#Getting value count to ensure change\n",
    "basics['genres'].value_counts()"
   ]
  },
  {
   "cell_type": "code",
   "execution_count": null,
   "id": "827bb826",
   "metadata": {},
   "outputs": [],
   "source": [
    "# Exclude movies that are included in the documentary category.\n",
    "is_documentary = basics['genres'].str.contains('documentary',case=False)\n",
    "basics = basics[~is_documentary]"
   ]
  },
  {
   "cell_type": "code",
   "execution_count": null,
   "id": "f27d55ad",
   "metadata": {},
   "outputs": [],
   "source": [
    "#Getting value count to ensure change\n",
    "basics['genres'].value_counts()"
   ]
  },
  {
   "cell_type": "markdown",
   "id": "0a66c5e4",
   "metadata": {},
   "source": [
    "\n",
    "## Keep only US movies (Use AKAs table, see \"Filtering one dataframe based on another\" section below)"
   ]
  },
  {
   "cell_type": "code",
   "execution_count": null,
   "id": "0e72c3d2",
   "metadata": {},
   "outputs": [],
   "source": [
    "#Using filtered datafram to filter another dataframe\n",
    "keepers = basics['tconst'].isin(akas_us['titleId'])"
   ]
  },
  {
   "cell_type": "code",
   "execution_count": null,
   "id": "70870cf1",
   "metadata": {},
   "outputs": [],
   "source": [
    "#Displaying filtered dataframe\n",
    "basics = basics[keepers]\n",
    "basics"
   ]
  },
  {
   "cell_type": "markdown",
   "id": "a26c3dde",
   "metadata": {},
   "source": [
    "# Ratings table:\n",
    "- Replace \"\\N\" with np.nan (if any)\n",
    "- Keep only US movies (Use AKAs table, see \"Filtering one dataframe based on another\" section below)"
   ]
  },
  {
   "cell_type": "code",
   "execution_count": null,
   "id": "e95971fd",
   "metadata": {},
   "outputs": [],
   "source": [
    "#Loading ratings dt\n",
    "ratings_url=\"https://datasets.imdbws.com/title.ratings.tsv.gz\"\n",
    "ratings = pd.read_csv(ratings_url, sep='\\t',\n",
    "                      low_memory=False)\n",
    "ratings.info()"
   ]
  },
  {
   "cell_type": "code",
   "execution_count": null,
   "id": "0e885bca",
   "metadata": {},
   "outputs": [],
   "source": [
    "ratings.head()"
   ]
  },
  {
   "cell_type": "markdown",
   "id": "73603bee",
   "metadata": {},
   "source": [
    "## Replace \"\\N\" with np.nan (if any)"
   ]
  },
  {
   "cell_type": "code",
   "execution_count": null,
   "id": "fa3cd71f",
   "metadata": {},
   "outputs": [],
   "source": [
    "ratings.replace({'\\\\N':np.nan}, inplace=True)"
   ]
  },
  {
   "cell_type": "markdown",
   "id": "1924f0eb",
   "metadata": {},
   "source": [
    "## Keep only US movies (Use AKAs table, see \"Filtering one dataframe based on another\" section below)"
   ]
  },
  {
   "cell_type": "code",
   "execution_count": null,
   "id": "eaec9082",
   "metadata": {},
   "outputs": [],
   "source": [
    "#Using filtered dataframe to filter another dataframe \n",
    "keepers =ratings['tconst'].isin(akas_us['titleId'])"
   ]
  },
  {
   "cell_type": "code",
   "execution_count": null,
   "id": "e5cd6b95",
   "metadata": {},
   "outputs": [],
   "source": [
    "#Displaying results\n",
    "ratings = ratings[keepers]\n",
    "ratings"
   ]
  }
 ],
 "metadata": {
  "kernelspec": {
   "display_name": "Python (dojo-env)",
   "language": "python",
   "name": "dojo-env"
  },
  "language_info": {
   "codemirror_mode": {
    "name": "ipython",
    "version": 3
   },
   "file_extension": ".py",
   "mimetype": "text/x-python",
   "name": "python",
   "nbconvert_exporter": "python",
   "pygments_lexer": "ipython3",
   "version": "3.9.15"
  },
  "toc": {
   "base_numbering": 1,
   "nav_menu": {},
   "number_sections": true,
   "sideBar": true,
   "skip_h1_title": false,
   "title_cell": "Table of Contents",
   "title_sidebar": "Contents",
   "toc_cell": false,
   "toc_position": {},
   "toc_section_display": true,
   "toc_window_display": false
  }
 },
 "nbformat": 4,
 "nbformat_minor": 5
}
