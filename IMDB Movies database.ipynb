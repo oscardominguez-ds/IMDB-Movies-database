{
 "cells": [
  {
   "cell_type": "markdown",
   "id": "fda96a1e",
   "metadata": {},
   "source": [
    "# Oscar Dominguez"
   ]
  },
  {
   "cell_type": "code",
   "execution_count": 9,
   "id": "d6a927e7",
   "metadata": {},
   "outputs": [],
   "source": [
    "# imports\n",
    "import pandas as pd"
   ]
  },
  {
   "cell_type": "code",
   "execution_count": 11,
   "id": "99437cd9",
   "metadata": {},
   "outputs": [
    {
     "name": "stdout",
     "output_type": "stream",
     "text": [
      "<class 'pandas.core.frame.DataFrame'>\n",
      "RangeIndex: 9806297 entries, 0 to 9806296\n",
      "Data columns (total 9 columns):\n",
      " #   Column          Dtype \n",
      "---  ------          ----- \n",
      " 0   tconst          object\n",
      " 1   titleType       object\n",
      " 2   primaryTitle    object\n",
      " 3   originalTitle   object\n",
      " 4   isAdult         object\n",
      " 5   startYear       object\n",
      " 6   endYear         object\n",
      " 7   runtimeMinutes  object\n",
      " 8   genres          object\n",
      "dtypes: object(9)\n",
      "memory usage: 673.3+ MB\n"
     ]
    }
   ],
   "source": [
    "basics_url=\"https://datasets.imdbws.com/title.basics.tsv.gz\"\n",
    "basics = pd.read_csv(basics_url, sep='\\t', low_memory=False)\n",
    "basics.info()"
   ]
  },
  {
   "cell_type": "code",
   "execution_count": 14,
   "id": "31a37956",
   "metadata": {},
   "outputs": [
    {
     "name": "stdout",
     "output_type": "stream",
     "text": [
      "<class 'pandas.core.frame.DataFrame'>\n",
      "RangeIndex: 35714227 entries, 0 to 35714226\n",
      "Data columns (total 8 columns):\n",
      " #   Column           Dtype \n",
      "---  ------           ----- \n",
      " 0   titleId          object\n",
      " 1   ordering         int64 \n",
      " 2   title            object\n",
      " 3   region           object\n",
      " 4   language         object\n",
      " 5   types            object\n",
      " 6   attributes       object\n",
      " 7   isOriginalTitle  object\n",
      "dtypes: int64(1), object(7)\n",
      "memory usage: 2.1+ GB\n"
     ]
    }
   ],
   "source": [
    "akas_url=\"https://datasets.imdbws.com/title.akas.tsv.gz\"\n",
    "akas = pd.read_csv(akas_url, sep='\\t', low_memory=False)\n",
    "akas.info()"
   ]
  },
  {
   "cell_type": "code",
   "execution_count": 15,
   "id": "562d4650",
   "metadata": {},
   "outputs": [
    {
     "name": "stdout",
     "output_type": "stream",
     "text": [
      "<class 'pandas.core.frame.DataFrame'>\n",
      "RangeIndex: 1305613 entries, 0 to 1305612\n",
      "Data columns (total 3 columns):\n",
      " #   Column         Non-Null Count    Dtype  \n",
      "---  ------         --------------    -----  \n",
      " 0   tconst         1305613 non-null  object \n",
      " 1   averageRating  1305613 non-null  float64\n",
      " 2   numVotes       1305613 non-null  int64  \n",
      "dtypes: float64(1), int64(1), object(1)\n",
      "memory usage: 29.9+ MB\n"
     ]
    }
   ],
   "source": [
    "ratings_url=\"https://datasets.imdbws.com/title.ratings.tsv.gz\"\n",
    "ratings = pd.read_csv(ratings_url, sep='\\t', low_memory=False)\n",
    "ratings.info()"
   ]
  },
  {
   "cell_type": "code",
   "execution_count": null,
   "id": "30747138",
   "metadata": {},
   "outputs": [],
   "source": []
  }
 ],
 "metadata": {
  "kernelspec": {
   "display_name": "Python (dojo-env)",
   "language": "python",
   "name": "dojo-env"
  },
  "language_info": {
   "codemirror_mode": {
    "name": "ipython",
    "version": 3
   },
   "file_extension": ".py",
   "mimetype": "text/x-python",
   "name": "python",
   "nbconvert_exporter": "python",
   "pygments_lexer": "ipython3",
   "version": "3.9.15"
  },
  "toc": {
   "base_numbering": 1,
   "nav_menu": {},
   "number_sections": true,
   "sideBar": true,
   "skip_h1_title": false,
   "title_cell": "Table of Contents",
   "title_sidebar": "Contents",
   "toc_cell": false,
   "toc_position": {},
   "toc_section_display": true,
   "toc_window_display": false
  }
 },
 "nbformat": 4,
 "nbformat_minor": 5
}
